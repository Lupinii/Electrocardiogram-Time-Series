{
 "cells": [
  {
   "cell_type": "code",
   "execution_count": null,
   "id": "c32ab3ad",
   "metadata": {},
   "outputs": [],
   "source": [
    "print(\"hello, world!\")"
   ]
  },
  {
   "cell_type": "code",
   "execution_count": null,
   "id": "170c4376",
   "metadata": {},
   "outputs": [],
   "source": [
    "!pip install kagglehub\n"
   ]
  },
  {
   "cell_type": "code",
   "execution_count": null,
   "id": "1a879a05",
   "metadata": {},
   "outputs": [],
   "source": [
    "import kagglehub\n",
    "\n",
    "# Download latest version\n",
    "path = kagglehub.dataset_download(\"evilspirit05/ecg-analysis\")\n",
    "\n",
    "print(\"Path to dataset files:\", path)"
   ]
  },
  {
   "cell_type": "code",
   "execution_count": null,
   "id": "8a90fb2c",
   "metadata": {},
   "outputs": [],
   "source": [
    "import os\n",
    "\n",
    "path = r\"C:\\Users\\oroni\\.cache\\kagglehub\\datasets\\evilspirit05\\ecg-analysis\\versions\\2\"\n",
    "print(os.listdir(path))\n"
   ]
  },
  {
   "cell_type": "code",
   "execution_count": null,
   "id": "e6d67cad",
   "metadata": {},
   "outputs": [],
   "source": [
    "import os\n",
    "\n",
    "path = r\"C:\\Users\\oroni\\.cache\\kagglehub\\datasets\\evilspirit05\\ecg-analysis\\versions\\2\"\n",
    "for root, dirs, files in os.walk(path):\n",
    "    print(\"📁 Folder:\", root)\n",
    "    for f in files[:5]:  # show just a few per folder\n",
    "        print(\"  -\", f)\n",
    "    print()\n"
   ]
  },
  {
   "cell_type": "code",
   "execution_count": null,
   "id": "420eb1da",
   "metadata": {},
   "outputs": [],
   "source": [
    "import os\n",
    "import cv2\n",
    "import matplotlib.pyplot as plt\n",
    "\n",
    "# Path to one real image (Normal case)\n",
    "image_path = r\"C:\\Users\\oroni\\.cache\\kagglehub\\datasets\\evilspirit05\\ecg-analysis\\versions\\2\\ECG_DATA\\test\\Normal Person ECG Images (284x12=3408)\\Normal(1).jpg\"\n",
    "\n",
    "# Load image\n",
    "image = cv2.imread(image_path)\n",
    "\n",
    "# Verify loading\n",
    "if image is None:\n",
    "    print(\"⚠️ Image not found at:\", image_path)\n",
    "else:\n",
    "    # Convert BGR → RGB for correct colors\n",
    "    image = cv2.cvtColor(image, cv2.COLOR_BGR2RGB)\n",
    "\n",
    "    plt.figure(figsize=(8, 4))\n",
    "    plt.imshow(image)\n",
    "    plt.title(\"Sample Normal ECG Image\")\n",
    "    plt.axis(\"off\")\n",
    "    plt.show()\n"
   ]
  },
  {
   "cell_type": "code",
   "execution_count": null,
   "id": "19df989a",
   "metadata": {},
   "outputs": [],
   "source": [
    "import random\n",
    "\n",
    "base_path = r\"C:\\Users\\oroni\\.cache\\kagglehub\\datasets\\evilspirit05\\ecg-analysis\\versions\\2\\ECG_DATA\\test\"\n",
    "classes = os.listdir(base_path)\n",
    "\n",
    "for cls in classes:\n",
    "    folder = os.path.join(base_path, cls)\n",
    "    sample = random.choice(os.listdir(folder))\n",
    "    img_path = os.path.join(folder, sample)\n",
    "    img = cv2.imread(img_path)\n",
    "    img = cv2.cvtColor(img, cv2.COLOR_BGR2RGB)\n",
    "    plt.figure(figsize=(8, 4))\n",
    "    plt.imshow(img)\n",
    "    plt.title(cls)\n",
    "    plt.axis(\"off\")\n",
    "    plt.show()\n"
   ]
  }
 ],
 "metadata": {
  "kernelspec": {
   "display_name": "fresh_env",
   "language": "python",
   "name": "python3"
  },
  "language_info": {
   "codemirror_mode": {
    "name": "ipython",
    "version": 3
   },
   "file_extension": ".py",
   "mimetype": "text/x-python",
   "name": "python",
   "nbconvert_exporter": "python",
   "pygments_lexer": "ipython3",
   "version": "3.10.16"
  }
 },
 "nbformat": 4,
 "nbformat_minor": 5
}
